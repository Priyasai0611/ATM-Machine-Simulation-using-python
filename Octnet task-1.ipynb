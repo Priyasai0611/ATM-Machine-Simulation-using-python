{
 "cells": [
  {
   "cell_type": "code",
   "execution_count": 12,
   "id": "61f2e79b-5888-4a80-9ff3-6fcaba9511de",
   "metadata": {},
   "outputs": [
    {
     "name": "stdin",
     "output_type": "stream",
     "text": [
      "Enter your starting balance: ₹ 600000\n",
      "Set your 4-digit PIN:  2002\n"
     ]
    },
    {
     "name": "stdout",
     "output_type": "stream",
     "text": [
      "\n",
      "Welcome to the ATM\n"
     ]
    },
    {
     "name": "stdin",
     "output_type": "stream",
     "text": [
      "Enter your PIN:  2002\n"
     ]
    },
    {
     "name": "stdout",
     "output_type": "stream",
     "text": [
      "\n",
      "ATM Menu:\n",
      "1. Balance Inquiry\n",
      "2. Cash Withdrawal\n",
      "3. Cash Deposit\n",
      "4. Change PIN\n",
      "5. Transaction History\n",
      "6. Exit\n"
     ]
    },
    {
     "name": "stdin",
     "output_type": "stream",
     "text": [
      "Choose an option (1-6):  1\n"
     ]
    },
    {
     "name": "stdout",
     "output_type": "stream",
     "text": [
      "Your current balance is: ₹600000.0\n",
      "\n",
      "ATM Menu:\n",
      "1. Balance Inquiry\n",
      "2. Cash Withdrawal\n",
      "3. Cash Deposit\n",
      "4. Change PIN\n",
      "5. Transaction History\n",
      "6. Exit\n"
     ]
    },
    {
     "name": "stdin",
     "output_type": "stream",
     "text": [
      "Choose an option (1-6):  2\n",
      "Enter the amount to withdraw: ₹ 200000\n"
     ]
    },
    {
     "name": "stdout",
     "output_type": "stream",
     "text": [
      "₹200000.0 withdrawn successfully.\n",
      "New balance: ₹400000.0\n",
      "\n",
      "ATM Menu:\n",
      "1. Balance Inquiry\n",
      "2. Cash Withdrawal\n",
      "3. Cash Deposit\n",
      "4. Change PIN\n",
      "5. Transaction History\n",
      "6. Exit\n"
     ]
    },
    {
     "name": "stdin",
     "output_type": "stream",
     "text": [
      "Choose an option (1-6):  3\n",
      "Enter the amount to deposit: ₹ 30000\n"
     ]
    },
    {
     "name": "stdout",
     "output_type": "stream",
     "text": [
      "₹30000.0 deposited successfully.\n",
      "New balance: ₹430000.0\n",
      "\n",
      "ATM Menu:\n",
      "1. Balance Inquiry\n",
      "2. Cash Withdrawal\n",
      "3. Cash Deposit\n",
      "4. Change PIN\n",
      "5. Transaction History\n",
      "6. Exit\n"
     ]
    },
    {
     "name": "stdin",
     "output_type": "stream",
     "text": [
      "Choose an option (1-6):  4\n",
      "Enter your PIN:  0611\n"
     ]
    },
    {
     "name": "stdout",
     "output_type": "stream",
     "text": [
      "Incorrect PIN!\n",
      "\n",
      "ATM Menu:\n",
      "1. Balance Inquiry\n",
      "2. Cash Withdrawal\n",
      "3. Cash Deposit\n",
      "4. Change PIN\n",
      "5. Transaction History\n",
      "6. Exit\n"
     ]
    },
    {
     "name": "stdin",
     "output_type": "stream",
     "text": [
      "Choose an option (1-6):  5\n"
     ]
    },
    {
     "name": "stdout",
     "output_type": "stream",
     "text": [
      "Transaction History:\n",
      "1. Balance inquiry\n",
      "2. Withdrew ₹200000.0\n",
      "3. Deposited ₹30000.0\n",
      "\n",
      "ATM Menu:\n",
      "1. Balance Inquiry\n",
      "2. Cash Withdrawal\n",
      "3. Cash Deposit\n",
      "4. Change PIN\n",
      "5. Transaction History\n",
      "6. Exit\n"
     ]
    },
    {
     "name": "stdin",
     "output_type": "stream",
     "text": [
      "Choose an option (1-6):  6\n"
     ]
    },
    {
     "name": "stdout",
     "output_type": "stream",
     "text": [
      "Thank you for using the ATM. Goodbye!\n"
     ]
    }
   ],
   "source": [
    "class ATM:\n",
    "    def __init__(self):\n",
    "        \"\"\"\n",
    "        Initialize ATM by asking the user to enter their starting balance and PIN.\n",
    "        The balance is stored as a float and the PIN as an integer.\n",
    "        Transaction history is initialized as an empty list to store records of transactions.\n",
    "        \"\"\"\n",
    "        self.balance = float(input(\"Enter your starting balance: ₹\"))  # User enters initial balance\n",
    "        self.pin = int(input(\"Set your 4-digit PIN: \"))  # User sets initial 4-digit PIN\n",
    "        self.transaction_history = []  # List to store the history of all transactions\n",
    "\n",
    "    def check_pin(self):\n",
    "        \"\"\"\n",
    "        Prompts the user to enter their PIN and checks if it matches the stored PIN.\n",
    "        Returns True if the PIN is correct, False otherwise.\n",
    "        \"\"\"\n",
    "        entered_pin = int(input(\"Enter your PIN: \"))  # Prompt user for their PIN\n",
    "        if entered_pin == self.pin:\n",
    "            return True  # PIN matches\n",
    "        else:\n",
    "            print(\"Incorrect PIN!\")  # PIN does not match\n",
    "            return False  # Return False if PIN is incorrect\n",
    "\n",
    "    def balance_inquiry(self):\n",
    "        \"\"\"\n",
    "        Displays the current account balance and adds this action to the transaction history.\n",
    "        \"\"\"\n",
    "        print(f\"Your current balance is: ₹{self.balance}\")  # Show current balance\n",
    "        self.transaction_history.append(\"Balance inquiry\")  # Record this transaction\n",
    "\n",
    "    def cash_withdrawal(self):\n",
    "        \"\"\"\n",
    "        Handles the cash withdrawal process. Prompts the user for the amount to withdraw,\n",
    "        checks if the balance is sufficient, updates the balance, and records the transaction.\n",
    "        \"\"\"\n",
    "        amount = float(input(\"Enter the amount to withdraw: ₹\"))  # Amount to withdraw\n",
    "        if amount > self.balance:\n",
    "            print(\"Insufficient funds!\")  # Check if withdrawal exceeds the balance\n",
    "        else:\n",
    "            self.balance -= amount  # Deduct the withdrawal amount from balance\n",
    "            print(f\"₹{amount} withdrawn successfully.\")\n",
    "            print(f\"New balance: ₹{self.balance}\")\n",
    "            self.transaction_history.append(f\"Withdrew ₹{amount}\")  # Record the transaction\n",
    "\n",
    "    def cash_deposit(self):\n",
    "        \"\"\"\n",
    "        Handles the cash deposit process. Prompts the user for the amount to deposit,\n",
    "        updates the balance, and records the transaction.\n",
    "        \"\"\"\n",
    "        amount = float(input(\"Enter the amount to deposit: ₹\"))  # Amount to deposit\n",
    "        self.balance += amount  # Add the deposit amount to balance\n",
    "        print(f\"₹{amount} deposited successfully.\")\n",
    "        print(f\"New balance: ₹{self.balance}\")\n",
    "        self.transaction_history.append(f\"Deposited ₹{amount}\")  # Record the transaction\n",
    "\n",
    "    def change_pin(self):\n",
    "        \"\"\"\n",
    "        Allows the user to change their PIN. First, it verifies the current PIN.\n",
    "        If successful, prompts the user to enter and confirm a new PIN.\n",
    "        \"\"\"\n",
    "        if self.check_pin():  # Verify the current PIN\n",
    "            new_pin = int(input(\"Enter your new PIN: \"))  # New PIN\n",
    "            confirm_pin = int(input(\"Confirm your new PIN: \"))  # Confirm new PIN\n",
    "            if new_pin == confirm_pin:\n",
    "                self.pin = new_pin  # Update to the new PIN\n",
    "                print(\"PIN changed successfully!\")\n",
    "                self.transaction_history.append(\"PIN changed\")  # Record the PIN change\n",
    "            else:\n",
    "                print(\"PIN mismatch. Try again.\")  # Error if the new PIN doesn't match confirmation\n",
    "\n",
    "    def view_transaction_history(self):\n",
    "        \"\"\"\n",
    "        Displays the transaction history by iterating through the transaction list.\n",
    "        If there are no transactions, it informs the user that the history is empty.\n",
    "        \"\"\"\n",
    "        if self.transaction_history:  # Check if there is any transaction history\n",
    "            print(\"Transaction History:\")\n",
    "            for i, transaction in enumerate(self.transaction_history, 1):\n",
    "                print(f\"{i}. {transaction}\")  # Display each transaction with a number\n",
    "        else:\n",
    "            print(\"No transactions made yet.\")  # Inform if no transactions have occurred\n",
    "\n",
    "    def atm_menu(self):\n",
    "        \"\"\"\n",
    "        Displays the ATM menu and handles user choices for different ATM functions.\n",
    "        After verifying the PIN, the user can choose from balance inquiry, withdrawal, deposit,\n",
    "        PIN change, viewing transaction history, or exiting.\n",
    "        \"\"\"\n",
    "        print(\"\\nWelcome to the ATM\")\n",
    "        if not self.check_pin():  # Check the user's PIN at the start\n",
    "            return  # Exit if the PIN is incorrect\n",
    "        \n",
    "        while True:\n",
    "            # Display the ATM menu options\n",
    "            print(\"\\nATM Menu:\")\n",
    "            print(\"1. Balance Inquiry\")\n",
    "            print(\"2. Cash Withdrawal\")\n",
    "            print(\"3. Cash Deposit\")\n",
    "            print(\"4. Change PIN\")\n",
    "            print(\"5. Transaction History\")\n",
    "            print(\"6. Exit\")\n",
    "            choice = int(input(\"Choose an option (1-6): \"))  # Get the user's choice\n",
    "\n",
    "            # Execute the selected option\n",
    "            if choice == 1:\n",
    "                self.balance_inquiry()  # Show the current balance\n",
    "            elif choice == 2:\n",
    "                self.cash_withdrawal()  # Withdraw money\n",
    "            elif choice == 3:\n",
    "                self.cash_deposit()  # Deposit money\n",
    "            elif choice == 4:\n",
    "                self.change_pin()  # Change the PIN\n",
    "            elif choice == 5:\n",
    "                self.view_transaction_history()  # View transaction history\n",
    "            elif choice == 6:\n",
    "                print(\"Thank you for using the ATM. Goodbye!\")  # Exit the ATM system\n",
    "                break  # Exit the loop to end the session\n",
    "            else:\n",
    "                print(\"Invalid option, please try again.\")  # Error if an invalid choice is made\n",
    "\n",
    "# Main entry point of the program\n",
    "if __name__ == \"__main__\":\n",
    "    # Create an instance of the ATM class and start the ATM menu\n",
    "    atm = ATM()\n",
    "    atm.atm_menu()  # Start the ATM session\n"
   ]
  },
  {
   "cell_type": "markdown",
   "id": "ad7d432a-5030-458d-bc59-900494582c9d",
   "metadata": {},
   "source": []
  },
  {
   "cell_type": "code",
   "execution_count": null,
   "id": "a20ba1cc-d26c-436f-ad1d-03e4081363ea",
   "metadata": {},
   "outputs": [],
   "source": []
  }
 ],
 "metadata": {
  "kernelspec": {
   "display_name": "Python 3 (ipykernel)",
   "language": "python",
   "name": "python3"
  },
  "language_info": {
   "codemirror_mode": {
    "name": "ipython",
    "version": 3
   },
   "file_extension": ".py",
   "mimetype": "text/x-python",
   "name": "python",
   "nbconvert_exporter": "python",
   "pygments_lexer": "ipython3",
   "version": "3.11.7"
  }
 },
 "nbformat": 4,
 "nbformat_minor": 5
}
